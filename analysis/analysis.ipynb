{
 "cells": [
  {
   "attachments": {},
   "cell_type": "markdown",
   "metadata": {},
   "source": [
    "# Titanic - Machine Learning from Disaster\n",
    "The following notebook outlines my approach for the Kaggle competition [\"Titanic Machine Learing from Disaster\"](https://www.kaggle.com/competitions/titanic/overview), details of which can be found via the link provided. The goal of the competition is to find a binary classification method which will yield the highest accuracy on an unseen data set. "
   ]
  },
  {
   "attachments": {},
   "cell_type": "markdown",
   "metadata": {},
   "source": [
    "## The Data\n",
    "The website provides data in the form of csv files; [train.csv](data/train.csv) is intended for training models, while [test.csv](data/test.csv) is intended for evaluating the performance of said models. The first step in our analysis will be to perform some exploratory data analysis to better understand the data set."
   ]
  },
  {
   "cell_type": "code",
   "execution_count": null,
   "metadata": {},
   "outputs": [],
   "source": []
  }
 ],
 "metadata": {
  "kernelspec": {
   "display_name": "Python 3",
   "language": "python",
   "name": "python3"
  },
  "language_info": {
   "name": "python",
   "version": "3.10.7"
  },
  "orig_nbformat": 4,
  "vscode": {
   "interpreter": {
    "hash": "31f2aee4e71d21fbe5cf8b01ff0e069b9275f58929596ceb00d14d90e3e16cd6"
   }
  }
 },
 "nbformat": 4,
 "nbformat_minor": 2
}
